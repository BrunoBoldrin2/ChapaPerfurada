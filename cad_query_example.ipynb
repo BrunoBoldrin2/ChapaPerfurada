import cadquery as cq

# Exemplo simples de criação de um cubo
result = cq.Workplane("XY").box(10, 10, 10)

# Exportar o modelo
cq.exporters.export(result, 'model.step')

# Visualização (não suportada diretamente no Jupyter)
print("Modelo STEP exportado como 'model.step'")

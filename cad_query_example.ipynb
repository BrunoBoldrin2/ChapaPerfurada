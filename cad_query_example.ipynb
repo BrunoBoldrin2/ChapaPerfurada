{
 "cells": [
  {
   "cell_type": "code",
   "execution_count": null,
   "id": "ea0d35f2",
   "metadata": {},
   "outputs": [
    {
     "name": "stdout",
     "output_type": "stream",
     "text": [
      "Modelo STEP exportado como 'model.step'\n"
     ]
    }
   ],
   "source": [
    "import cadquery as cq\n",
    "\n",
    "# Exemplo simples de criação de um cubo\n",
    "result = cq.Workplane(\"XY\").box(10, 10, 10)\n",
    "\n",
    "# Exportar o modelo\n",
    "cq.exporters.export(result, 'model.step')\n",
    "\n",
    "# Visualização (não suportada diretamente no Jupyter)\n",
    "print(\"Modelo STEP exportado como 'model.step'\")\n"
   ]
  }
 ],
 "metadata": {
  "kernelspec": {
   "display_name": "Python 3",
   "language": "python",
   "name": "python3"
  },
  "language_info": {
   "codemirror_mode": {
    "name": "ipython",
    "version": 3
   },
   "file_extension": ".py",
   "mimetype": "text/x-python",
   "name": "python",
   "nbconvert_exporter": "python",
   "pygments_lexer": "ipython3",
   "version": "3.8.5"
  }
 },
 "nbformat": 4,
 "nbformat_minor": 5
}
